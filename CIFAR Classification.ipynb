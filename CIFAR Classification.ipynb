{
 "cells": [
  {
   "cell_type": "code",
   "execution_count": 1,
   "id": "50177a51",
   "metadata": {},
   "outputs": [],
   "source": [
    "import torch\n",
    "import torchvision\n",
    "import torch.nn as nn\n",
    "import torch.optim as optim\n",
    "from torchvision import transforms,datasets\n",
    "import torch.nn.functional as F\n",
    "import matplotlib\n",
    "import matplotlib.pyplot as plt"
   ]
  },
  {
   "cell_type": "code",
   "execution_count": 2,
   "id": "1f321d83",
   "metadata": {},
   "outputs": [
    {
     "name": "stdout",
     "output_type": "stream",
     "text": [
      "Downloading https://www.cs.toronto.edu/~kriz/cifar-10-python.tar.gz to ./data\\cifar-10-python.tar.gz\n"
     ]
    },
    {
     "data": {
      "application/vnd.jupyter.widget-view+json": {
       "model_id": "8ea1b3d73f1f4a3cad11020b7923797e",
       "version_major": 2,
       "version_minor": 0
      },
      "text/plain": [
       "  0%|          | 0/170498071 [00:00<?, ?it/s]"
      ]
     },
     "metadata": {},
     "output_type": "display_data"
    },
    {
     "name": "stdout",
     "output_type": "stream",
     "text": [
      "Extracting ./data\\cifar-10-python.tar.gz to ./data\n",
      "Files already downloaded and verified\n"
     ]
    }
   ],
   "source": [
    "train=datasets.CIFAR10('./data', train=True,download=True,transform=transforms.Compose([transforms.ToTensor(),transforms.Normalize((0.5,0.5,0.5),(0.5,0.5,0.5))]))\n",
    "test=datasets.CIFAR10('./data', train=False,download=True,transform=transforms.Compose([transforms.ToTensor(),transforms.Normalize((0.5,0.5,0.5),(0.5,0.5,0.5))]))\n",
    "\n",
    "trainset=torch.utils.data.DataLoader(train,batch_size=2,shuffle=True,num_workers=2)\n",
    "testset=torch.utils.data.DataLoader(test,batch_size=2,shuffle=True,num_workers=2)"
   ]
  },
  {
   "cell_type": "code",
   "execution_count": 3,
   "id": "043d5aa0",
   "metadata": {},
   "outputs": [
    {
     "name": "stdout",
     "output_type": "stream",
     "text": [
      "4\n",
      "7\n",
      "7\n",
      "2\n",
      "9\n"
     ]
    }
   ],
   "source": [
    "for i in range(5):\n",
    "    print(train[10+i][1])"
   ]
  },
  {
   "cell_type": "code",
   "execution_count": 4,
   "id": "add8b126",
   "metadata": {},
   "outputs": [],
   "source": [
    "class ConvNet(nn.Module):\n",
    "    def __init__(self):\n",
    "        super().__init__()\n",
    "        super().__init__()\n",
    "        self.conv1 = nn.Conv2d(3, 6, 5)\n",
    "        self.pool = nn.MaxPool2d(2, 2)\n",
    "        self.conv2 = nn.Conv2d(6, 16, 5)\n",
    "        self.fc1 = nn.Linear(16 * 5 * 5, 120)\n",
    "        self.fc2 = nn.Linear(120, 84)\n",
    "        self.fc3 = nn.Linear(84, 10)\n",
    "    def forward(self,x):\n",
    "        x = self.pool(F.relu(self.conv1(x)))\n",
    "        x = self.pool(F.relu(self.conv2(x)))\n",
    "        x = torch.flatten(x, 1) # flatten all dimensions except batch\n",
    "        x = F.relu(self.fc1(x))\n",
    "        x = F.relu(self.fc2(x))\n",
    "        x = self.fc3(x)\n",
    "        return x\n",
    "    \n",
    "    \n",
    "    def validate(self,model,data):\n",
    "        total=0\n",
    "        correct=0\n",
    "        for i,(images,labels) in enumerate(data):\n",
    "            x=model(images)\n",
    "            value,pred=torch.max(x,1)\n",
    "            total+=x.size(0)\n",
    "            correct+=torch.sum(pred==labels)\n",
    "    \n",
    "    \n",
    "        return correct/total"
   ]
  },
  {
   "cell_type": "code",
   "execution_count": 5,
   "id": "f1e3e399",
   "metadata": {},
   "outputs": [],
   "source": [
    "device=torch.device(\"cpu\")\n",
    "epoch=50\n",
    "cnn_model=ConvNet()"
   ]
  },
  {
   "cell_type": "code",
   "execution_count": 8,
   "id": "d1c13512",
   "metadata": {},
   "outputs": [
    {
     "name": "stdout",
     "output_type": "stream",
     "text": [
      "0 tensor(0.4181)\n",
      "1 tensor(0.4332)\n",
      "2 tensor(0.4611)\n",
      "3 tensor(0.4836)\n",
      "4 tensor(0.4969)\n",
      "5 tensor(0.5048)\n",
      "6 tensor(0.5228)\n",
      "7 tensor(0.5320)\n",
      "8 tensor(0.5431)\n",
      "9 tensor(0.5481)\n",
      "10 tensor(0.5546)\n",
      "11 tensor(0.5554)\n",
      "12 tensor(0.5740)\n",
      "13 tensor(0.5798)\n",
      "14 tensor(0.5775)\n",
      "15 tensor(0.5876)\n",
      "16 tensor(0.5904)\n",
      "17 tensor(0.5968)\n",
      "18 tensor(0.5977)\n",
      "19 tensor(0.6067)\n"
     ]
    }
   ],
   "source": [
    "\n",
    "cel=nn.CrossEntropyLoss()\n",
    "optimizer=optim.Adam(cnn_model.parameters(),lr=0.00003)\n",
    "    \n",
    "for epoch in range(20):\n",
    "    for i,(images,labels) in enumerate(trainset):\n",
    "            images=images.to(device)\n",
    "            labels=labels.to(device)\n",
    "            optimizer.zero_grad()\n",
    "            pred=cnn_model(images)\n",
    "            loss=cel(pred,labels)\n",
    "            loss.backward()\n",
    "            optimizer.step()\n",
    "            \n",
    "    accuracy=cnn_model.validate(cnn_model,testset)\n",
    "    print(epoch,accuracy)"
   ]
  },
  {
   "cell_type": "code",
   "execution_count": null,
   "id": "79d8398c",
   "metadata": {},
   "outputs": [],
   "source": []
  }
 ],
 "metadata": {
  "kernelspec": {
   "display_name": "Python 3",
   "language": "python",
   "name": "python3"
  },
  "language_info": {
   "codemirror_mode": {
    "name": "ipython",
    "version": 3
   },
   "file_extension": ".py",
   "mimetype": "text/x-python",
   "name": "python",
   "nbconvert_exporter": "python",
   "pygments_lexer": "ipython3",
   "version": "3.6.13"
  }
 },
 "nbformat": 4,
 "nbformat_minor": 5
}
