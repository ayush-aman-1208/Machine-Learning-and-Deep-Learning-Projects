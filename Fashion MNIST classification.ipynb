{
 "cells": [
  {
   "cell_type": "code",
   "execution_count": 1,
   "id": "0c54d580",
   "metadata": {},
   "outputs": [],
   "source": [
    "import torch\n",
    "import torchvision\n",
    "import torch.nn as nn\n",
    "import torch.optim as optim\n",
    "from torchvision import transforms,datasets\n",
    "import torch.nn.functional as F\n",
    "import matplotlib\n",
    "import matplotlib.pyplot as plt"
   ]
  },
  {
   "cell_type": "code",
   "execution_count": 2,
   "id": "21a2851a",
   "metadata": {},
   "outputs": [
    {
     "name": "stdout",
     "output_type": "stream",
     "text": [
      "Downloading http://fashion-mnist.s3-website.eu-central-1.amazonaws.com/train-images-idx3-ubyte.gz\n",
      "Downloading http://fashion-mnist.s3-website.eu-central-1.amazonaws.com/train-images-idx3-ubyte.gz to FashionMNIST\\raw\\train-images-idx3-ubyte.gz\n"
     ]
    },
    {
     "data": {
      "application/vnd.jupyter.widget-view+json": {
       "model_id": "cc2e5230da224f11b89afb7783ae8e9f",
       "version_major": 2,
       "version_minor": 0
      },
      "text/plain": [
       "  0%|          | 0/26421880 [00:00<?, ?it/s]"
      ]
     },
     "metadata": {},
     "output_type": "display_data"
    },
    {
     "name": "stdout",
     "output_type": "stream",
     "text": [
      "Extracting FashionMNIST\\raw\\train-images-idx3-ubyte.gz to FashionMNIST\\raw\n",
      "\n",
      "Downloading http://fashion-mnist.s3-website.eu-central-1.amazonaws.com/train-labels-idx1-ubyte.gz\n",
      "Downloading http://fashion-mnist.s3-website.eu-central-1.amazonaws.com/train-labels-idx1-ubyte.gz to FashionMNIST\\raw\\train-labels-idx1-ubyte.gz\n"
     ]
    },
    {
     "data": {
      "application/vnd.jupyter.widget-view+json": {
       "model_id": "f1b3916d2efb4628945d748f747d5320",
       "version_major": 2,
       "version_minor": 0
      },
      "text/plain": [
       "  0%|          | 0/29515 [00:00<?, ?it/s]"
      ]
     },
     "metadata": {},
     "output_type": "display_data"
    },
    {
     "name": "stdout",
     "output_type": "stream",
     "text": [
      "Extracting FashionMNIST\\raw\\train-labels-idx1-ubyte.gz to FashionMNIST\\raw\n",
      "\n",
      "Downloading http://fashion-mnist.s3-website.eu-central-1.amazonaws.com/t10k-images-idx3-ubyte.gz\n",
      "Downloading http://fashion-mnist.s3-website.eu-central-1.amazonaws.com/t10k-images-idx3-ubyte.gz to FashionMNIST\\raw\\t10k-images-idx3-ubyte.gz\n"
     ]
    },
    {
     "data": {
      "application/vnd.jupyter.widget-view+json": {
       "model_id": "ec2783d220764324a7fab7f8f09a36b8",
       "version_major": 2,
       "version_minor": 0
      },
      "text/plain": [
       "  0%|          | 0/4422102 [00:00<?, ?it/s]"
      ]
     },
     "metadata": {},
     "output_type": "display_data"
    },
    {
     "name": "stdout",
     "output_type": "stream",
     "text": [
      "Extracting FashionMNIST\\raw\\t10k-images-idx3-ubyte.gz to FashionMNIST\\raw\n",
      "\n",
      "Downloading http://fashion-mnist.s3-website.eu-central-1.amazonaws.com/t10k-labels-idx1-ubyte.gz\n",
      "Downloading http://fashion-mnist.s3-website.eu-central-1.amazonaws.com/t10k-labels-idx1-ubyte.gz to FashionMNIST\\raw\\t10k-labels-idx1-ubyte.gz\n"
     ]
    },
    {
     "data": {
      "application/vnd.jupyter.widget-view+json": {
       "model_id": "dff228493e7f4693a3fc12c29685ea50",
       "version_major": 2,
       "version_minor": 0
      },
      "text/plain": [
       "  0%|          | 0/5148 [00:00<?, ?it/s]"
      ]
     },
     "metadata": {},
     "output_type": "display_data"
    },
    {
     "name": "stdout",
     "output_type": "stream",
     "text": [
      "Extracting FashionMNIST\\raw\\t10k-labels-idx1-ubyte.gz to FashionMNIST\\raw\n",
      "\n"
     ]
    }
   ],
   "source": [
    "train=datasets.FashionMNIST(\"\", train=True,download=True,transform=transforms.Compose([transforms.ToTensor()]))\n",
    "test=datasets.FashionMNIST(\"\", train=False,download=True,transform=transforms.Compose([transforms.ToTensor()]))\n",
    " \n",
    "trainset=torch.utils.data.DataLoader(train,batch_size=64,shuffle=True)\n",
    "testset=torch.utils.data.DataLoader(test,batch_size=64,shuffle=True)"
   ]
  },
  {
   "cell_type": "code",
   "execution_count": 3,
   "id": "74b29e55",
   "metadata": {},
   "outputs": [],
   "source": [
    "class ConvNet(nn.Module):\n",
    "    def __init__(self):\n",
    "            super(ConvNet,self).__init__()\n",
    "            \n",
    "            self.model=nn.Sequential(nn.Conv2d(1,10,5,padding=2),\n",
    "                        nn.ReLU(),\n",
    "                        nn.AvgPool2d(2,stride=2),\n",
    "                        \n",
    "                        nn.Conv2d(10,20,5,padding=0),\n",
    "                        nn.ReLU(),\n",
    "                        nn.AvgPool2d(2,stride=2),\n",
    "                        \n",
    "                        nn.Flatten(),\n",
    "                        nn.Linear(500,250),\n",
    "                        nn.ReLU(),\n",
    "                        nn.Linear(250,100),\n",
    "                        nn.ReLU(),\n",
    "                        nn.Linear(100,10)\n",
    "                       )\n",
    "    \n",
    "    \n",
    "    \n",
    "    \n",
    "    \n",
    "    def forward(self, x):\n",
    "      \n",
    "        fitt = self.model(x)\n",
    "        return fitt"
   ]
  },
  {
   "cell_type": "code",
   "execution_count": 4,
   "id": "f42acf45",
   "metadata": {},
   "outputs": [],
   "source": [
    "l_rate=0.0001\n",
    "batch_size=64\n",
    "\n",
    "epoch=10\n",
    "cnn_model=ConvNet()\n",
    " \n",
    " \n",
    "cel=nn.CrossEntropyLoss()\n",
    "optimizer=optim.Adam(cnn_model.parameters(),l_rate)"
   ]
  },
  {
   "cell_type": "code",
   "execution_count": 5,
   "id": "bf86892a",
   "metadata": {},
   "outputs": [],
   "source": [
    "def training(dataloader, model, loss_fn, optimizer):\n",
    "    size = len(dataloader.dataset)\n",
    "    for batch, (X, y) in enumerate(dataloader):\n",
    "        # Compute prediction and loss\n",
    "        pred = model(X)\n",
    "        loss = loss_fn(pred, y)\n",
    " \n",
    "        # Backpropagation\n",
    "        optimizer.zero_grad()\n",
    "        loss.backward()\n",
    "        optimizer.step()\n",
    " \n",
    "        if batch % 100 == 0:\n",
    "            loss, current = loss.item(), batch * len(X)\n",
    "            print(f\"loss: {loss:>7f}  [{current:>5d}/{size:>5d}]\")"
   ]
  },
  {
   "cell_type": "code",
   "execution_count": null,
   "id": "a81c5ac4",
   "metadata": {},
   "outputs": [
    {
     "name": "stdout",
     "output_type": "stream",
     "text": [
      "Epoch 0\n",
      "loss: 2.307976  [    0/60000]\n",
      "loss: 1.584225  [ 6400/60000]\n",
      "loss: 0.865038  [12800/60000]\n",
      "loss: 0.872727  [19200/60000]\n",
      "loss: 0.546463  [25600/60000]\n",
      "loss: 0.612291  [32000/60000]\n",
      "loss: 0.843693  [38400/60000]\n",
      "loss: 0.823553  [44800/60000]\n",
      "loss: 0.604388  [51200/60000]\n",
      "loss: 0.764305  [57600/60000]\n",
      "Epoch 1\n",
      "loss: 0.599982  [    0/60000]\n",
      "loss: 0.551958  [ 6400/60000]\n",
      "loss: 1.100417  [12800/60000]\n",
      "loss: 0.428064  [19200/60000]\n",
      "loss: 0.598696  [25600/60000]\n",
      "loss: 0.785168  [32000/60000]\n",
      "loss: 0.592470  [38400/60000]\n",
      "loss: 0.697927  [44800/60000]\n",
      "loss: 0.573562  [51200/60000]\n",
      "loss: 0.485295  [57600/60000]\n",
      "Epoch 2\n",
      "loss: 0.539417  [    0/60000]\n",
      "loss: 0.597990  [ 6400/60000]\n",
      "loss: 0.781306  [12800/60000]\n",
      "loss: 0.696022  [19200/60000]\n",
      "loss: 0.543632  [25600/60000]\n",
      "loss: 0.632139  [32000/60000]\n",
      "loss: 0.589036  [38400/60000]\n",
      "loss: 0.453575  [44800/60000]\n",
      "loss: 0.629289  [51200/60000]\n",
      "loss: 0.530038  [57600/60000]\n",
      "Epoch 3\n",
      "loss: 0.449593  [    0/60000]\n",
      "loss: 0.541547  [ 6400/60000]\n",
      "loss: 0.446360  [12800/60000]\n",
      "loss: 0.453630  [19200/60000]\n",
      "loss: 0.471926  [25600/60000]\n",
      "loss: 0.585338  [32000/60000]\n",
      "loss: 0.623473  [38400/60000]\n",
      "loss: 0.540350  [44800/60000]\n",
      "loss: 0.545841  [51200/60000]\n",
      "loss: 0.657973  [57600/60000]\n",
      "Epoch 4\n",
      "loss: 0.274737  [    0/60000]\n",
      "loss: 0.534194  [ 6400/60000]\n",
      "loss: 0.597290  [12800/60000]\n",
      "loss: 0.594655  [19200/60000]\n",
      "loss: 0.519221  [25600/60000]\n",
      "loss: 0.443974  [32000/60000]\n",
      "loss: 0.518785  [38400/60000]\n",
      "loss: 0.541068  [44800/60000]\n",
      "loss: 0.521007  [51200/60000]\n",
      "loss: 0.379898  [57600/60000]\n",
      "Epoch 5\n",
      "loss: 0.445320  [    0/60000]\n",
      "loss: 0.440744  [ 6400/60000]\n",
      "loss: 0.515613  [12800/60000]\n",
      "loss: 0.417035  [19200/60000]\n",
      "loss: 0.512735  [25600/60000]\n",
      "loss: 0.494210  [32000/60000]\n",
      "loss: 0.526935  [38400/60000]\n",
      "loss: 0.507134  [44800/60000]\n",
      "loss: 0.572795  [51200/60000]\n",
      "loss: 0.490886  [57600/60000]\n",
      "Epoch 6\n",
      "loss: 0.433264  [    0/60000]\n",
      "loss: 0.574067  [ 6400/60000]\n",
      "loss: 0.665966  [12800/60000]\n",
      "loss: 0.427030  [19200/60000]\n",
      "loss: 0.315999  [25600/60000]\n",
      "loss: 0.472751  [32000/60000]\n",
      "loss: 0.420838  [38400/60000]\n",
      "loss: 0.460584  [44800/60000]\n",
      "loss: 0.330693  [51200/60000]\n",
      "loss: 0.505440  [57600/60000]\n",
      "Epoch 7\n",
      "loss: 0.452560  [    0/60000]\n",
      "loss: 0.717306  [ 6400/60000]\n",
      "loss: 0.748282  [12800/60000]\n",
      "loss: 0.543045  [19200/60000]\n",
      "loss: 0.409292  [25600/60000]\n",
      "loss: 0.480850  [32000/60000]\n",
      "loss: 0.491064  [38400/60000]\n",
      "loss: 0.477260  [44800/60000]\n",
      "loss: 0.392077  [51200/60000]\n"
     ]
    }
   ],
   "source": [
    "for i in range(epoch):\n",
    "  print(\"Epoch\",i)\n",
    "  training(trainset,cnn_model,cel,optimizer)"
   ]
  },
  {
   "cell_type": "code",
   "execution_count": null,
   "id": "32581f85",
   "metadata": {},
   "outputs": [],
   "source": []
  }
 ],
 "metadata": {
  "kernelspec": {
   "display_name": "Python 3",
   "language": "python",
   "name": "python3"
  },
  "language_info": {
   "codemirror_mode": {
    "name": "ipython",
    "version": 3
   },
   "file_extension": ".py",
   "mimetype": "text/x-python",
   "name": "python",
   "nbconvert_exporter": "python",
   "pygments_lexer": "ipython3",
   "version": "3.6.13"
  }
 },
 "nbformat": 4,
 "nbformat_minor": 5
}
